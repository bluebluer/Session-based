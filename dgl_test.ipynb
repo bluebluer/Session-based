{
  "cells": [
    {
      "cell_type": "code",
      "execution_count": null,
      "metadata": {
        "colab": {
          "base_uri": "https://localhost:8080/"
        },
        "id": "xu6ELMpy0EXs",
        "outputId": "36fb2c34-3392-4969-882f-6ce9babdd452"
      },
      "outputs": [
        {
          "name": "stdout",
          "output_type": "stream",
          "text": [
            "Looking in indexes: https://pypi.org/simple, https://us-python.pkg.dev/colab-wheels/public/simple/\n",
            "Requirement already satisfied: dgl in /usr/local/lib/python3.9/dist-packages (1.0.1)\n",
            "Requirement already satisfied: tqdm in /usr/local/lib/python3.9/dist-packages (from dgl) (4.65.0)\n",
            "Requirement already satisfied: psutil>=5.8.0 in /usr/local/lib/python3.9/dist-packages (from dgl) (5.9.4)\n",
            "Requirement already satisfied: networkx>=2.1 in /usr/local/lib/python3.9/dist-packages (from dgl) (3.0)\n",
            "Requirement already satisfied: requests>=2.19.0 in /usr/local/lib/python3.9/dist-packages (from dgl) (2.27.1)\n",
            "Requirement already satisfied: numpy>=1.14.0 in /usr/local/lib/python3.9/dist-packages (from dgl) (1.22.4)\n",
            "Requirement already satisfied: scipy>=1.1.0 in /usr/local/lib/python3.9/dist-packages (from dgl) (1.10.1)\n",
            "Requirement already satisfied: urllib3<1.27,>=1.21.1 in /usr/local/lib/python3.9/dist-packages (from requests>=2.19.0->dgl) (1.26.15)\n",
            "Requirement already satisfied: charset-normalizer~=2.0.0 in /usr/local/lib/python3.9/dist-packages (from requests>=2.19.0->dgl) (2.0.12)\n",
            "Requirement already satisfied: idna<4,>=2.5 in /usr/local/lib/python3.9/dist-packages (from requests>=2.19.0->dgl) (3.4)\n",
            "Requirement already satisfied: certifi>=2017.4.17 in /usr/local/lib/python3.9/dist-packages (from requests>=2.19.0->dgl) (2022.12.7)\n"
          ]
        }
      ],
      "source": [
        "\n",
        "! pip install dgl\n"
      ]
    },
    {
      "cell_type": "code",
      "execution_count": null,
      "metadata": {
        "colab": {
          "base_uri": "https://localhost:8080/"
        },
        "id": "ZsMvjJoE1B1I",
        "outputId": "79023f66-017a-46ef-ad2b-378cd58a1961"
      },
      "outputs": [
        {
          "name": "stdout",
          "output_type": "stream",
          "text": [
            "the graph of g Graph(num_nodes=4, num_edges=4,\n",
            "      ndata_schemes={}\n",
            "      edata_schemes={})\n",
            "tensor([0, 1, 2, 3])\n",
            "(tensor([0, 0, 0, 1]), tensor([1, 2, 3, 3]))\n",
            "(tensor([0, 0, 0, 1]), tensor([1, 2, 3, 3]), tensor([0, 1, 2, 3]))\n"
          ]
        }
      ],
      "source": [
        "\"\"\"\n",
        "  DGL使用一个唯一的整数来表示一个节点，称为点ID；并用对应的两个端点ID表示一条边。同时，DGL也会根据边被添加的顺序，\n",
        "  给每条边分配一个唯一的整数编号，称为边ID。节点和边的ID都是从0开始构建的。在DGL的图里，所有的边都是有方向的 \n",
        "\"\"\"\n",
        "import dgl\n",
        "import torch as th\n",
        "\n",
        "# 边 0-1 0-2 0-3 1-3\n",
        "u,v = th.tensor([0,0,0,1]),th.tensor([1,2,3,3])\n",
        "g = dgl.graph((u,v))\n",
        "print(\"the graph of g\",g)\n",
        "\n",
        "# 获取节点的id\n",
        "print(g.nodes())\n",
        "\n",
        "# 获取边对应的端点\n",
        "print(g.edges())\n",
        "\n",
        "# 获取边对应端点和边ID\n",
        "print(g.edges(form='all'))\n",
        "\n",
        "# 如果具有最大id的节点没有边，在创建图的时候，用户需要明确地指明节点数量\n",
        "g = dgl.graph((u,v),num_nodes=8)"
      ]
    },
    {
      "cell_type": "code",
      "execution_count": null,
      "metadata": {
        "colab": {
          "base_uri": "https://localhost:8080/"
        },
        "id": "z5ZaBu3K3Vzw",
        "outputId": "c8d65570-c66a-4e59-bd2a-0fb6b309c6f5"
      },
      "outputs": [
        {
          "name": "stdout",
          "output_type": "stream",
          "text": [
            "Graph(num_nodes=8, num_edges=4,\n",
            "      ndata_schemes={}\n",
            "      edata_schemes={})\n"
          ]
        }
      ],
      "source": [
        "print(g)"
      ]
    },
    {
      "cell_type": "code",
      "execution_count": null,
      "metadata": {
        "colab": {
          "base_uri": "https://localhost:8080/"
        },
        "id": "jez0KPXH3X17",
        "outputId": "6bb4da94-090d-4171-eb27-19010a7cda09"
      },
      "outputs": [
        {
          "data": {
            "text/plain": [
              "(tensor([0, 0, 0, 1, 1, 2, 3, 3]), tensor([1, 2, 3, 0, 3, 0, 0, 1]))"
            ]
          },
          "execution_count": 4,
          "metadata": {},
          "output_type": "execute_result"
        }
      ],
      "source": [
        "# 对于无向图，需要为每条边都创建两个方向的边\n",
        "bg = dgl.to_bidirected(g)\n",
        "bg.edges()"
      ]
    },
    {
      "cell_type": "code",
      "execution_count": null,
      "metadata": {
        "colab": {
          "base_uri": "https://localhost:8080/"
        },
        "id": "L1auvXmt3nMe",
        "outputId": "4701c70a-9785-4f4c-f2f0-5ce56e4824d5"
      },
      "outputs": [
        {
          "data": {
            "text/plain": [
              "Graph(num_nodes=6, num_edges=4,\n",
              "      ndata_schemes={}\n",
              "      edata_schemes={})"
            ]
          },
          "execution_count": 5,
          "metadata": {},
          "output_type": "execute_result"
        }
      ],
      "source": [
        "# DGLGraph 对象的节点和边可具有多个用户定义的、可命名的特征，以存储图的节点和边的属性\n",
        "# 可通过ndata，edata访问这些特征。\n",
        "\n",
        "g = dgl.graph(([0, 0, 1, 5], [1, 2, 2, 0]))\n",
        "g"
      ]
    },
    {
      "cell_type": "code",
      "execution_count": null,
      "metadata": {
        "colab": {
          "base_uri": "https://localhost:8080/"
        },
        "id": "Y_Z96BYk4dkt",
        "outputId": "68e141b1-ab58-44ec-9743-162d97808445"
      },
      "outputs": [
        {
          "data": {
            "text/plain": [
              "tensor([[1., 1., 1.],\n",
              "        [1., 1., 1.],\n",
              "        [1., 1., 1.]])"
            ]
          },
          "execution_count": 6,
          "metadata": {},
          "output_type": "execute_result"
        }
      ],
      "source": [
        "th.ones(3,3)"
      ]
    },
    {
      "cell_type": "code",
      "execution_count": null,
      "metadata": {
        "colab": {
          "base_uri": "https://localhost:8080/"
        },
        "id": "25UaLX_14hch",
        "outputId": "623497fb-a1ae-4555-ab4f-34abaadccc27"
      },
      "outputs": [
        {
          "data": {
            "text/plain": [
              "tensor([[1., 1., 1.],\n",
              "        [1., 1., 1.],\n",
              "        [1., 1., 1.],\n",
              "        [1., 1., 1.],\n",
              "        [1., 1., 1.],\n",
              "        [1., 1., 1.]])"
            ]
          },
          "execution_count": 7,
          "metadata": {},
          "output_type": "execute_result"
        }
      ],
      "source": [
        "th.ones(6,3)"
      ]
    },
    {
      "cell_type": "code",
      "execution_count": null,
      "metadata": {
        "colab": {
          "base_uri": "https://localhost:8080/"
        },
        "id": "OmXpuE434PgF",
        "outputId": "d295fea5-6804-4d1b-9b51-a964941e5829"
      },
      "outputs": [
        {
          "data": {
            "text/plain": [
              "Graph(num_nodes=6, num_edges=4,\n",
              "      ndata_schemes={'x': Scheme(shape=(3,), dtype=torch.float32)}\n",
              "      edata_schemes={'x': Scheme(shape=(), dtype=torch.int32)})"
            ]
          },
          "execution_count": 8,
          "metadata": {},
          "output_type": "execute_result"
        }
      ],
      "source": [
        "g.ndata['x'] = th.ones(g.num_nodes(),3)\n",
        "g.edata['x'] = th.ones(g.num_edges(),dtype=th.int32)\n",
        "g"
      ]
    },
    {
      "cell_type": "code",
      "execution_count": null,
      "metadata": {
        "colab": {
          "base_uri": "https://localhost:8080/"
        },
        "id": "HTKqll-T5G8W",
        "outputId": "085fa48b-378f-4801-f6c3-268894964aaf"
      },
      "outputs": [
        {
          "data": {
            "text/plain": [
              "Graph(num_nodes=6, num_edges=4,\n",
              "      ndata_schemes={'x': Scheme(shape=(3,), dtype=torch.float32), 'y': Scheme(shape=(5,), dtype=torch.float32)}\n",
              "      edata_schemes={'x': Scheme(shape=(), dtype=torch.int32)})"
            ]
          },
          "execution_count": 9,
          "metadata": {},
          "output_type": "execute_result"
        }
      ],
      "source": [
        "# 不同名称的特征可以有不同形状\n",
        "g.ndata['y'] = th.randn(g.num_nodes(),5)\n",
        "g"
      ]
    },
    {
      "cell_type": "code",
      "execution_count": null,
      "metadata": {
        "colab": {
          "base_uri": "https://localhost:8080/"
        },
        "id": "koTbXMHW5fYO",
        "outputId": "b5fbd1a2-81d7-4f7e-eb9e-27d65f787be5"
      },
      "outputs": [
        {
          "data": {
            "text/plain": [
              "tensor([-1.2478, -0.3388, -1.3215,  0.2925, -2.4185])"
            ]
          },
          "execution_count": 10,
          "metadata": {},
          "output_type": "execute_result"
        }
      ],
      "source": [
        "# 获取节点x的特征\n",
        "g.ndata['x'][1]\n",
        "g.ndata['y'][1]"
      ]
    },
    {
      "cell_type": "code",
      "execution_count": null,
      "metadata": {
        "colab": {
          "base_uri": "https://localhost:8080/"
        },
        "id": "rvC0Et_l5s9n",
        "outputId": "b4333cee-e90d-4950-b0a1-4d829944f617"
      },
      "outputs": [
        {
          "data": {
            "text/plain": [
              "tensor([1, 1], dtype=torch.int32)"
            ]
          },
          "execution_count": 11,
          "metadata": {},
          "output_type": "execute_result"
        }
      ],
      "source": [
        "# 获取边0 3 的特征\n",
        "g.edata['x'][th.tensor([0,3])]"
      ]
    },
    {
      "cell_type": "code",
      "execution_count": null,
      "metadata": {
        "colab": {
          "base_uri": "https://localhost:8080/"
        },
        "id": "CvSQjnvh66tO",
        "outputId": "d635a4eb-5863-4c4b-c70e-d2306abac12c"
      },
      "outputs": [
        {
          "data": {
            "text/plain": [
              "Graph(num_nodes=4, num_edges=4,\n",
              "      ndata_schemes={}\n",
              "      edata_schemes={'W': Scheme(shape=(), dtype=torch.float32)})"
            ]
          },
          "execution_count": 12,
          "metadata": {},
          "output_type": "execute_result"
        }
      ],
      "source": [
        "# 对于加权图，可以将权重存储为一个边特征\n",
        "edges = th.tensor([0,0,0,1]),th.tensor([1,2,3,3])\n",
        "weights = th.tensor([0.1,0.6,0.9,0.7])\n",
        "g = dgl.graph(edges)\n",
        "g.edata['W'] = weights\n",
        "g"
      ]
    },
    {
      "cell_type": "code",
      "execution_count": null,
      "metadata": {
        "colab": {
          "base_uri": "https://localhost:8080/"
        },
        "id": "mo09e_TJ7iSe",
        "outputId": "07039040-5e61-41b7-987a-69c06d587a7f"
      },
      "outputs": [
        {
          "data": {
            "text/plain": [
              "tensor([0.1000, 0.6000, 0.9000, 0.7000])"
            ]
          },
          "execution_count": 13,
          "metadata": {},
          "output_type": "execute_result"
        }
      ],
      "source": [
        "g.edata['W']"
      ]
    },
    {
      "cell_type": "code",
      "execution_count": null,
      "metadata": {
        "colab": {
          "base_uri": "https://localhost:8080/"
        },
        "id": "s-PpmKzE7l24",
        "outputId": "8fff6b61-5b79-467f-e8fd-c35a8f25f53e"
      },
      "outputs": [
        {
          "data": {
            "text/plain": [
              "Graph(num_nodes=100, num_edges=500,\n",
              "      ndata_schemes={}\n",
              "      edata_schemes={})"
            ]
          },
          "execution_count": 14,
          "metadata": {},
          "output_type": "execute_result"
        }
      ],
      "source": [
        "# 从外部源创建图\n",
        "\"\"\"\n",
        "  可以从外部来源构造一个 DGLGraph 对象，包括\n",
        "  从用于图和稀疏矩阵的外部Python库（NetworkX 和 SciPy）创建而来。\n",
        "  从磁盘加载图数据。\n",
        "\"\"\"\n",
        "import scipy.sparse as sp\n",
        "# 百分之五非零项\n",
        "spmat =sp.rand(100,100,density=0.05)\n",
        "dgl.from_scipy(spmat)"
      ]
    },
    {
      "cell_type": "code",
      "execution_count": null,
      "metadata": {
        "colab": {
          "base_uri": "https://localhost:8080/"
        },
        "id": "-yH1Reji8VB8",
        "outputId": "bf565527-6248-42ba-8d11-83b1386f5c4a"
      },
      "outputs": [
        {
          "data": {
            "text/plain": [
              "Graph(num_nodes=5, num_edges=8,\n",
              "      ndata_schemes={}\n",
              "      edata_schemes={})"
            ]
          },
          "execution_count": 15,
          "metadata": {},
          "output_type": "execute_result"
        }
      ],
      "source": [
        "import networkx as nx\n",
        "\n",
        "# 0 1 2 3 4 \n",
        "nx_g = nx.path_graph(5)\n",
        "dgl.from_networkx(nx_g)"
      ]
    },
    {
      "cell_type": "code",
      "execution_count": null,
      "metadata": {
        "id": "wLQimLAt84LV"
      },
      "outputs": [],
      "source": [
        "# 磁盘加载图\n",
        "# 逗号分隔值\n",
        "# https://github.com/dglai/WWW20-Hands-on-Tutorial/blob/master/basic_tasks/1_load_data.ipynb"
      ]
    },
    {
      "cell_type": "code",
      "execution_count": null,
      "metadata": {
        "id": "4E00pXlT9Pit"
      },
      "outputs": [],
      "source": [
        "\"\"\"\n",
        "  异构图\n",
        "  异构图里可以有不同类型的节点和边。这些不同类型的节点和边具有独立的ID空间和特征。\n",
        "  在DGL中，一个异构图由一系列子图构成，一个子图对应一种关系。每个关系由一个字符串三元组\n",
        "  定义 (源节点类型, 边类型, 目标节点类型) 。由于这里的关系定义消除了边类型的歧义，DGL称它们为规范边类型。\n",
        "\"\"\"\n",
        "# 创建一个具有三种节点类型和三种边类型的异构图\n",
        "graph_data ={\n",
        "    ('drug', 'interacts', 'drug'): (th.tensor([0, 1]), th.tensor([1, 2])),\n",
        "    ('drug', 'interacts', 'gene'): (th.tensor([0, 1]), th.tensor([2, 3])),\n",
        "    ('drug', 'treats', 'disease'): (th.tensor([1]), th.tensor([2]))\n",
        "}\n",
        "g = dgl.heterograph(graph_data)"
      ]
    },
    {
      "cell_type": "code",
      "execution_count": null,
      "metadata": {
        "colab": {
          "base_uri": "https://localhost:8080/"
        },
        "id": "PLt6terV_aRi",
        "outputId": "86ccbfdd-c4d9-45df-d254-bfc3558b657c"
      },
      "outputs": [
        {
          "data": {
            "text/plain": [
              "['disease', 'drug', 'gene']"
            ]
          },
          "execution_count": 18,
          "metadata": {},
          "output_type": "execute_result"
        }
      ],
      "source": [
        "g.ntypes"
      ]
    },
    {
      "cell_type": "code",
      "execution_count": null,
      "metadata": {
        "colab": {
          "base_uri": "https://localhost:8080/"
        },
        "id": "q8M0jVr__gRz",
        "outputId": "608056db-871a-40f7-fbac-9b153b01834f"
      },
      "outputs": [
        {
          "data": {
            "text/plain": [
              "['interacts', 'interacts', 'treats']"
            ]
          },
          "execution_count": 19,
          "metadata": {},
          "output_type": "execute_result"
        }
      ],
      "source": [
        "g.etypes\n"
      ]
    },
    {
      "cell_type": "code",
      "execution_count": null,
      "metadata": {
        "colab": {
          "base_uri": "https://localhost:8080/"
        },
        "id": "xEOmNRPr_iKR",
        "outputId": "2363b069-f2db-4a0a-846d-7562fc49853e"
      },
      "outputs": [
        {
          "data": {
            "text/plain": [
              "Graph(num_nodes={'destination_type': 4, 'source_type': 2},\n",
              "      num_edges={('source_type', 'edge_type', 'destination_type'): 4},\n",
              "      metagraph=[('source_type', 'destination_type', 'edge_type')])"
            ]
          },
          "execution_count": 20,
          "metadata": {},
          "output_type": "execute_result"
        }
      ],
      "source": [
        "# 构图和二分图只是一种特殊的异构图，它们只包括一种关系。\n",
        "dgl.heterograph({('node_type', 'edge_type', 'node_type'): (u, v)})\n",
        "dgl.heterograph({('source_type', 'edge_type', 'destination_type'): (u, v)})"
      ]
    },
    {
      "cell_type": "code",
      "execution_count": null,
      "metadata": {
        "colab": {
          "base_uri": "https://localhost:8080/"
        },
        "id": "Ruod_3gdAGuL",
        "outputId": "d913dae8-47a0-4682-ed0e-a9e9a5412548"
      },
      "outputs": [
        {
          "data": {
            "text/plain": [
              "Graph(num_nodes={'disease': 3, 'drug': 3, 'gene': 4},\n",
              "      num_edges={('drug', 'interacts', 'drug'): 2, ('drug', 'interacts', 'gene'): 2, ('drug', 'treats', 'disease'): 1},\n",
              "      metagraph=[('drug', 'drug', 'interacts'), ('drug', 'gene', 'interacts'), ('drug', 'disease', 'treats')])"
            ]
          },
          "execution_count": 21,
          "metadata": {},
          "output_type": "execute_result"
        }
      ],
      "source": [
        "\"\"\"\n",
        "  与异构图相关联的 metagraph 就是图的模式。它指定节点集和节点之间的边的类型约束。 \n",
        "  metagraph 中的一个节点 u 对应于相关异构图中的一个节点类型。\n",
        "  metagraph 中的边 (u,v) 表示在相关异构图中存在从 u 型节点到 v 型节点的边。\n",
        "\"\"\"\n",
        "g"
      ]
    },
    {
      "cell_type": "code",
      "execution_count": null,
      "metadata": {
        "colab": {
          "base_uri": "https://localhost:8080/"
        },
        "id": "yqsVCVArATYV",
        "outputId": "5979934e-ab9c-42d3-c57d-0887f51d51cc"
      },
      "outputs": [
        {
          "data": {
            "text/plain": [
              "10"
            ]
          },
          "execution_count": 22,
          "metadata": {},
          "output_type": "execute_result"
        }
      ],
      "source": [
        "\"\"\"\n",
        "  当引入多种节点和边类型后，用户在调用DGLGraph API以获取特定类型的信息时，\n",
        "  需要指定具体的节点和边类型。此外，不同类型的节点和边具有单独的ID。\n",
        "\"\"\"\n",
        "# 获取图中所有节点数量\n",
        "g.num_nodes()"
      ]
    },
    {
      "cell_type": "code",
      "execution_count": null,
      "metadata": {
        "colab": {
          "base_uri": "https://localhost:8080/"
        },
        "id": "v9wTjbLuCeK9",
        "outputId": "626f67e4-1557-48d3-bb87-e3a50c6e57aa"
      },
      "outputs": [
        {
          "data": {
            "text/plain": [
              "3"
            ]
          },
          "execution_count": 23,
          "metadata": {},
          "output_type": "execute_result"
        }
      ],
      "source": [
        "# 获取drug节点的数量\n",
        "g.num_nodes('drug')"
      ]
    },
    {
      "cell_type": "code",
      "execution_count": null,
      "metadata": {
        "colab": {
          "base_uri": "https://localhost:8080/",
          "height": 332
        },
        "id": "mtSl-Sf4Cjeq",
        "outputId": "a6c97712-d945-4237-b676-660753ba4470"
      },
      "outputs": [
        {
          "ename": "DGLError",
          "evalue": "ignored",
          "output_type": "error",
          "traceback": [
            "\u001b[0;31m---------------------------------------------------------------------------\u001b[0m",
            "\u001b[0;31mDGLError\u001b[0m                                  Traceback (most recent call last)",
            "\u001b[0;32m<ipython-input-24-30a6c5f2fb7c>\u001b[0m in \u001b[0;36m<module>\u001b[0;34m\u001b[0m\n\u001b[1;32m      1\u001b[0m \u001b[0;31m# 不同类型的节点有单独的id，因此没有指定节点类型就没有明确返回值\u001b[0m\u001b[0;34m\u001b[0m\u001b[0;34m\u001b[0m\u001b[0m\n\u001b[0;32m----> 2\u001b[0;31m \u001b[0mg\u001b[0m\u001b[0;34m.\u001b[0m\u001b[0mnodes\u001b[0m\u001b[0;34m(\u001b[0m\u001b[0;34m)\u001b[0m\u001b[0;34m\u001b[0m\u001b[0;34m\u001b[0m\u001b[0m\n\u001b[0m",
            "\u001b[0;32m/usr/local/lib/python3.9/dist-packages/dgl/view.py\u001b[0m in \u001b[0;36m__call__\u001b[0;34m(self, ntype)\u001b[0m\n\u001b[1;32m     46\u001b[0m     \u001b[0;32mdef\u001b[0m \u001b[0m__call__\u001b[0m\u001b[0;34m(\u001b[0m\u001b[0mself\u001b[0m\u001b[0;34m,\u001b[0m \u001b[0mntype\u001b[0m\u001b[0;34m=\u001b[0m\u001b[0;32mNone\u001b[0m\u001b[0;34m)\u001b[0m\u001b[0;34m:\u001b[0m\u001b[0;34m\u001b[0m\u001b[0;34m\u001b[0m\u001b[0m\n\u001b[1;32m     47\u001b[0m         \u001b[0;34m\"\"\"Return the nodes.\"\"\"\u001b[0m\u001b[0;34m\u001b[0m\u001b[0;34m\u001b[0m\u001b[0m\n\u001b[0;32m---> 48\u001b[0;31m         \u001b[0mntid\u001b[0m \u001b[0;34m=\u001b[0m \u001b[0mself\u001b[0m\u001b[0;34m.\u001b[0m\u001b[0m_typeid_getter\u001b[0m\u001b[0;34m(\u001b[0m\u001b[0mntype\u001b[0m\u001b[0;34m)\u001b[0m\u001b[0;34m\u001b[0m\u001b[0;34m\u001b[0m\u001b[0m\n\u001b[0m\u001b[1;32m     49\u001b[0m         ret = F.arange(\n\u001b[1;32m     50\u001b[0m             \u001b[0;36m0\u001b[0m\u001b[0;34m,\u001b[0m\u001b[0;34m\u001b[0m\u001b[0;34m\u001b[0m\u001b[0m\n",
            "\u001b[0;32m/usr/local/lib/python3.9/dist-packages/dgl/heterograph.py\u001b[0m in \u001b[0;36mget_ntype_id\u001b[0;34m(self, ntype)\u001b[0m\n\u001b[1;32m   1174\u001b[0m         \u001b[0;32mif\u001b[0m \u001b[0mntype\u001b[0m \u001b[0;32mis\u001b[0m \u001b[0;32mNone\u001b[0m\u001b[0;34m:\u001b[0m\u001b[0;34m\u001b[0m\u001b[0;34m\u001b[0m\u001b[0m\n\u001b[1;32m   1175\u001b[0m             \u001b[0;32mif\u001b[0m \u001b[0mself\u001b[0m\u001b[0;34m.\u001b[0m\u001b[0mis_unibipartite\u001b[0m \u001b[0;32mor\u001b[0m \u001b[0mlen\u001b[0m\u001b[0;34m(\u001b[0m\u001b[0mself\u001b[0m\u001b[0;34m.\u001b[0m\u001b[0m_srctypes_invmap\u001b[0m\u001b[0;34m)\u001b[0m \u001b[0;34m!=\u001b[0m \u001b[0;36m1\u001b[0m\u001b[0;34m:\u001b[0m\u001b[0;34m\u001b[0m\u001b[0;34m\u001b[0m\u001b[0m\n\u001b[0;32m-> 1176\u001b[0;31m                 raise DGLError('Node type name must be specified if there are more than one '\n\u001b[0m\u001b[1;32m   1177\u001b[0m                                'node types.')\n\u001b[1;32m   1178\u001b[0m             \u001b[0;32mreturn\u001b[0m \u001b[0;36m0\u001b[0m\u001b[0;34m\u001b[0m\u001b[0;34m\u001b[0m\u001b[0m\n",
            "\u001b[0;31mDGLError\u001b[0m: Node type name must be specified if there are more than one node types."
          ]
        }
      ],
      "source": [
        "# 不同类型的节点有单独的id，因此没有指定节点类型就没有明确返回值\n",
        "g.nodes()"
      ]
    },
    {
      "cell_type": "code",
      "execution_count": null,
      "metadata": {
        "id": "r0svH33XCy_S"
      },
      "outputs": [],
      "source": [
        "g.nodes('drug')"
      ]
    },
    {
      "cell_type": "code",
      "execution_count": null,
      "metadata": {
        "id": "rlt9fwkwC2Xm"
      },
      "outputs": [],
      "source": [
        "\"\"\"\n",
        "  为了设置/获取特定节点和边类型的特征，DGL提供了两种新类型的语法： \n",
        "  g.nodes[‘node_type’].data[‘feat_name’] 和 g.edges[‘edge_type’].data[‘feat_name’] 。\n",
        "\"\"\"\n",
        "# 设置/获取 drug 类型的节点的hv特征\n",
        "g.nodes['drug'].data['hv'] = th.ones(3,1)\n",
        "g.nodes['drug'].data['hv']"
      ]
    },
    {
      "cell_type": "code",
      "execution_count": null,
      "metadata": {
        "id": "Wn_O4ZyuDUoo"
      },
      "outputs": [],
      "source": [
        "# 设置/获取\"treats\"类型的边的\"he\"特征\n",
        "g.edges['treats'].data['he'] = th.zeros(1, 1)\n",
        "g.edges['treats'].data['he']"
      ]
    },
    {
      "cell_type": "code",
      "execution_count": null,
      "metadata": {
        "id": "QlzX0-BlDjsj"
      },
      "outputs": [],
      "source": [
        "# 如果图里只有一种节点或边类型，则不需要指定节点或边的类型。\n",
        "g = dgl.heterograph({\n",
        "  ('drug', 'interacts', 'drug'): (th.tensor([0, 1]), th.tensor([1, 2])),\n",
        "  ('drug', 'is similar', 'drug'): (th.tensor([0, 1]), th.tensor([2, 3]))\n",
        "})\n",
        "g.nodes()"
      ]
    },
    {
      "cell_type": "code",
      "execution_count": null,
      "metadata": {
        "id": "aZ5p3AdvEAOT"
      },
      "outputs": [],
      "source": [
        "# 从磁盘加载异构图\n",
        "# 一种存储异构图的常见方法是在不同的CSV文件中存储不同类型的节点和边。下面是一个例子。\n",
        "\"\"\"\n",
        "  # 数据文件夹\n",
        "data/\n",
        "|-- drug.csv        # drug节点\n",
        "|-- gene.csv        # gene节点\n",
        "|-- disease.csv     # disease节点\n",
        "|-- drug-interact-drug.csv  # drug-drug相互作用边\n",
        "|-- drug-interact-gene.csv  # drug-gene相互作用边\n",
        "|-- drug-treat-disease.csv  # drug-disease治疗边\n",
        "\n",
        "与同构图的情况类似，用户可以使用像Pandas这样的包先将CSV文件解析为numpy数组或框架张量，再构建一个关系字典，\n",
        "并用它构造一个异构图。 这种方法也适用于其他流行的文件格式，比如GML或JSON。\n",
        "\"\"\""
      ]
    },
    {
      "cell_type": "code",
      "execution_count": null,
      "metadata": {
        "id": "HQQP-wsqEVQZ"
      },
      "outputs": [],
      "source": [
        "# 边类型子图\n",
        "g = dgl.heterograph({\n",
        "   ('drug', 'interacts', 'drug'): (th.tensor([0, 1]), th.tensor([1, 2])),\n",
        "   ('drug', 'interacts', 'gene'): (th.tensor([0, 1]), th.tensor([2, 3])),\n",
        "   ('drug', 'treats', 'disease'): (th.tensor([1]), th.tensor([2]))\n",
        "})\n",
        "g.nodes['drug'].data['hv'] = th.ones(3, 1)"
      ]
    },
    {
      "cell_type": "code",
      "execution_count": null,
      "metadata": {
        "id": "OLWaipUOEsSg"
      },
      "outputs": [],
      "source": [
        "# 保留关系 ('drug', 'interacts', 'drug') 和 ('drug', 'treats', 'disease') 。\n",
        "# 'drug' 和 'disease' 类型的节点也会被保留\n",
        "eg = dgl.edge_type_subgraph(g, [('drug', 'interacts', 'drug'),\n",
        "                ('drug', 'treats', 'disease')])\n",
        "eg"
      ]
    },
    {
      "cell_type": "code",
      "execution_count": null,
      "metadata": {
        "id": "q77ypHTEE6Cj"
      },
      "outputs": [],
      "source": [
        "# 相关的特征也会被拷贝\n",
        "eg.nodes['drug'].data['hv']"
      ]
    },
    {
      "cell_type": "markdown",
      "metadata": {
        "id": "-8WNG-C1Gj5n"
      },
      "source": []
    },
    {
      "cell_type": "code",
      "execution_count": null,
      "metadata": {
        "id": "G06FR574E7Th"
      },
      "outputs": [],
      "source": [
        "# DGL允许使用 dgl.DGLGraph.to_homogeneous() API将异构图转换为同构图\n",
        "# 用从0开始的连续整数重新标记所有类型的节点和边。\n",
        "# 对所有的节点和边合并用户指定的特征。\n",
        "g = dgl.heterograph({\n",
        "   ('drug', 'interacts', 'drug'): (th.tensor([0, 1]), th.tensor([1, 2])),\n",
        "   ('drug', 'treats', 'disease'): (th.tensor([1]), th.tensor([2]))})\n",
        "g.nodes['drug'].data['hv'] = th.zeros(3, 1)\n",
        "g.nodes['disease'].data['hv'] = th.ones(3, 1)\n",
        "g.edges['interacts'].data['he'] = th.zeros(2, 1)\n",
        "g.edges['treats'].data['he'] = th.zeros(1, 2)"
      ]
    },
    {
      "cell_type": "code",
      "execution_count": null,
      "metadata": {
        "id": "40RBjHGsFTT8"
      },
      "outputs": [],
      "source": [
        "# 默认情况下不进行特征合并\n",
        "hg = dgl.to_homogeneous(g)\n",
        "'hv' in hg.ndata"
      ]
    },
    {
      "cell_type": "code",
      "execution_count": null,
      "metadata": {},
      "outputs": [],
      "source": [
        "# https://docs.dgl.ai/en/1.0.x/guide_cn/graph-heterogeneous.html"
      ]
    }
  ],
  "metadata": {
    "colab": {
      "provenance": []
    },
    "kernelspec": {
      "display_name": "Python 3",
      "name": "python3"
    },
    "language_info": {
      "name": "python"
    }
  },
  "nbformat": 4,
  "nbformat_minor": 0
}
